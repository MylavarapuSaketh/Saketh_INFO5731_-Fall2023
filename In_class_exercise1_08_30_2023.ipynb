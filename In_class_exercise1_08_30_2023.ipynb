{
 "cells": [
  {
   "cell_type": "markdown",
   "metadata": {
    "id": "view-in-github"
   },
   "source": [
    "<a href=\"https://colab.research.google.com/github/unt-iialab/INFO5731_Spring2020/blob/master/In_class_exercise/In_class_exercise_01.ipynb\" target=\"_parent\"><img src=\"https://colab.research.google.com/assets/colab-badge.svg\" alt=\"Open In Colab\"/></a>"
   ]
  },
  {
   "cell_type": "markdown",
   "metadata": {
    "id": "DymRJbxDBCnf"
   },
   "source": [
    "# **The first In-class-exercise (08/30/2023, 40 points in total)**\n",
    "This exercise is due tomorrow 08/31/203 11:59 PM.\n"
   ]
  },
  {
   "cell_type": "markdown",
   "metadata": {
    "id": "FBKvD6O_TY6e"
   },
   "source": [
    "(1) Write a Python program to calculate the area of a rectangle using user-input length and width."
   ]
  },
  {
   "cell_type": "code",
   "execution_count": 1,
   "metadata": {
    "id": "cikVKDXdTbzE"
   },
   "outputs": [
    {
     "name": "stdout",
     "output_type": "stream",
     "text": [
      "Enter the length of the rectangle: 4\n",
      "Enter the width of the rectangle: 4\n",
      "The area of the rectangle is 16.0\n"
     ]
    }
   ],
   "source": [
    "def calculate_area(length, width):\n",
    "  \"\"\"Calculates the area of a rectangle.\n",
    "\n",
    "  Args:\n",
    "    length: The length of the rectangle.\n",
    "    width: The width of the rectangle.\n",
    "\n",
    "  Returns:\n",
    "    The area of the rectangle.\n",
    "  \"\"\"\n",
    "  return length * width\n",
    "\n",
    "\n",
    "def main():\n",
    "  \"\"\"The main function.\"\"\"\n",
    "  # Get the length and width of the rectangle from the user.\n",
    "  length = float(input(\"Enter the length of the rectangle: \"))\n",
    "  width = float(input(\"Enter the width of the rectangle: \"))\n",
    "\n",
    "  # Calculate the area of the rectangle.\n",
    "  area = calculate_area(length, width)\n",
    "\n",
    "  # Print the area of the rectangle.\n",
    "  print(\"The area of the rectangle is\", area)\n",
    "\n",
    "\n",
    "if __name__ == \"__main__\":\n",
    "  main()\n"
   ]
  },
  {
   "cell_type": "markdown",
   "metadata": {
    "id": "E9RqrlwdTfvl"
   },
   "source": [
    "(2) Create a program that takes two numbers from the user and swaps their values without using a temporary variable."
   ]
  },
  {
   "cell_type": "code",
   "execution_count": 2,
   "metadata": {
    "id": "4XvRknixTh1g"
   },
   "outputs": [
    {
     "name": "stdout",
     "output_type": "stream",
     "text": [
      "Enter the first number: 2\n",
      "Enter the second number: 4\n",
      "The first number is now 2\n",
      "The second number is now 4\n"
     ]
    }
   ],
   "source": [
    "def swap_numbers(a, b):\n",
    "  \"\"\"Swaps the values of two numbers without using a temporary variable.\n",
    "\n",
    "  Args:\n",
    "    a: The first number.\n",
    "    b: The second number.\n",
    "\n",
    "  Returns:\n",
    "    None.\n",
    "  \"\"\"\n",
    "  a = a + b\n",
    "  b = a - b\n",
    "  a = a - b\n",
    "\n",
    "\n",
    "def main():\n",
    "  \"\"\"The main function.\"\"\"\n",
    "  # Get two numbers from the user.\n",
    "  a = int(input(\"Enter the first number: \"))\n",
    "  b = int(input(\"Enter the second number: \"))\n",
    "\n",
    "  # Swap the values of the two numbers.\n",
    "  swap_numbers(a, b)\n",
    "\n",
    "  # Print the swapped values of the two numbers.\n",
    "  print(\"The first number is now\", a)\n",
    "  print(\"The second number is now\", b)\n",
    "\n",
    "\n",
    "if __name__ == \"__main__\":\n",
    "  main()\n"
   ]
  },
  {
   "cell_type": "markdown",
   "metadata": {
    "id": "03jb4GZsBkBS"
   },
   "source": [
    "(3) Write a Python program to calculate the length of a string."
   ]
  },
  {
   "cell_type": "code",
   "execution_count": 3,
   "metadata": {
    "id": "YaGLbSHHB8Ej"
   },
   "outputs": [
    {
     "name": "stdout",
     "output_type": "stream",
     "text": [
      "The length of the string is: 21\n"
     ]
    }
   ],
   "source": [
    "def length_of_string(str1):\n",
    "  length = 0\n",
    "  for i in str1:\n",
    "    length += 1\n",
    "  return length\n",
    "\n",
    "str1 = \"Computational Methods\"\n",
    "print(\"The length of the string is:\", length_of_string(str1))\n"
   ]
  },
  {
   "cell_type": "markdown",
   "metadata": {
    "id": "jJDe71iLB616"
   },
   "source": [
    "(4) Write a Python program to count the number of characters in a string.\n",
    "\n",
    "Sample String : 'google.com‘,\n",
    "\n",
    "Expected Result : {'o': 3, 'g': 2, '.': 1, 'e': 1, 'l': 1, 'm': 1, 'c': 1}"
   ]
  },
  {
   "cell_type": "code",
   "execution_count": 4,
   "metadata": {
    "id": "MtKskTzbCLaU"
   },
   "outputs": [
    {
     "name": "stdout",
     "output_type": "stream",
     "text": [
      "{'C': 1, 'o': 3, 'm': 1, 'p': 1, 'u': 1, 't': 3, 'a': 2, 'i': 1, 'n': 1, 'l': 1, ' ': 1, 'M': 1, 'e': 1, 'h': 1, 'd': 1, 's': 1}\n"
     ]
    }
   ],
   "source": [
    "def count_characters(str1):\n",
    "  char_counts = {}\n",
    "  for char in str1:\n",
    "    if char in char_counts:\n",
    "      char_counts[char] += 1\n",
    "    else:\n",
    "      char_counts[char] = 1\n",
    "  return char_counts\n",
    "\n",
    "str1 = \"Computational Methods\"\n",
    "print(count_characters(str1))\n"
   ]
  },
  {
   "cell_type": "markdown",
   "metadata": {
    "id": "55W9AMdXCSpV"
   },
   "source": [
    "(5) Write a Python program to sum all the items in a list."
   ]
  },
  {
   "cell_type": "code",
   "execution_count": 5,
   "metadata": {
    "id": "I57NXsauCec2"
   },
   "outputs": [
    {
     "name": "stdout",
     "output_type": "stream",
     "text": [
      "The sum of the list is: 15\n"
     ]
    }
   ],
   "source": [
    "def sum_list(list1):\n",
    "  sum = 0\n",
    "  for num in list1:\n",
    "    sum += num\n",
    "  return sum\n",
    "\n",
    "list1 = [1, 2, 3, 4, 5]\n",
    "print(\"The sum of the list is:\", sum_list(list1))\n"
   ]
  },
  {
   "cell_type": "markdown",
   "metadata": {
    "id": "4ulBZ6yhCi9F"
   },
   "source": [
    "(6) Write a Python program to get a string from a given string where all occurrences of its first char have been changed to '\\$', except the first char itself.\n",
    "\n",
    "Sample String : 'restart‘,\n",
    "\n",
    "Expected Result : 'resta\\$t'"
   ]
  },
  {
   "cell_type": "code",
   "execution_count": 9,
   "metadata": {
    "id": "Fj0XhwbBCw2o"
   },
   "outputs": [
    {
     "name": "stdout",
     "output_type": "stream",
     "text": [
      "$omputer \n"
     ]
    }
   ],
   "source": [
    "def replace_char(str1):\n",
    "  first_char = str1[0]\n",
    "  new_str = \"\"\n",
    "  for char in str1:\n",
    "    if char == first_char:\n",
    "      new_str += \"$\"\n",
    "    else:\n",
    "      new_str += char\n",
    "  return new_str\n",
    "\n",
    "str1 = \"Computer \"\n",
    "print(replace_char(str1))\n"
   ]
  },
  {
   "cell_type": "markdown",
   "metadata": {
    "id": "qVXA3q7ET5JI"
   },
   "source": [
    "(7) Create a program that calculates the factorial of a number using a while loop."
   ]
  },
  {
   "cell_type": "code",
   "execution_count": 10,
   "metadata": {
    "id": "Lbt7R6UkT7BA"
   },
   "outputs": [
    {
     "name": "stdout",
     "output_type": "stream",
     "text": [
      "The factorial of 5 is 120\n"
     ]
    }
   ],
   "source": [
    "def factorial(n):\n",
    "  factorial = 1\n",
    "  i = 1\n",
    "  while i <= n:\n",
    "    factorial *= i\n",
    "    i += 1\n",
    "  return factorial\n",
    "\n",
    "number = 5\n",
    "print(\"The factorial of\", number, \"is\", factorial(number))\n"
   ]
  },
  {
   "cell_type": "markdown",
   "metadata": {
    "id": "6YfbzXMNT--R"
   },
   "source": [
    "(8) Create a program that takes a list of numbers as input and outputs a new list with only the even numbers."
   ]
  },
  {
   "cell_type": "code",
   "execution_count": 11,
   "metadata": {
    "id": "54q7wMQPUAKu"
   },
   "outputs": [
    {
     "name": "stdout",
     "output_type": "stream",
     "text": [
      "[2, 4, 6, 8, 10]\n"
     ]
    }
   ],
   "source": [
    "def get_even_numbers(list1):\n",
    "  even_numbers = []\n",
    "  for num in list1:\n",
    "    if num % 2 == 0:\n",
    "      even_numbers.append(num)\n",
    "  return even_numbers\n",
    "\n",
    "list1 = [1, 2, 3, 4, 5, 6, 7, 8, 9, 10]\n",
    "even_numbers = get_even_numbers(list1)\n",
    "print(even_numbers)\n"
   ]
  },
  {
   "cell_type": "markdown",
   "metadata": {
    "id": "_bIP7s1MCzue"
   },
   "source": [
    "(9) Write a program with python which could accept two parameter a and b to calculate and output the result of S, where\n",
    "\n",
    "$\\ S=3.14*(1+a/b)^3$\n",
    "\n"
   ]
  },
  {
   "cell_type": "code",
   "execution_count": 12,
   "metadata": {
    "id": "w79QilHXD3Mg"
   },
   "outputs": [
    {
     "name": "stdout",
     "output_type": "stream",
     "text": [
      "S =  14.537037037037033\n"
     ]
    }
   ],
   "source": [
    "def calculate_s(a, b):\n",
    "  S = 3.14 * (1 + a / b) ** 3\n",
    "  return S\n",
    "\n",
    "a = 2\n",
    "b = 3\n",
    "S = calculate_s(a, b)\n",
    "print(\"S = \", S)\n"
   ]
  },
  {
   "cell_type": "markdown",
   "metadata": {
    "id": "xCa2bK9aD4Q3"
   },
   "source": [
    "(10) Write a Python program to concatenate following dictionaries to create a new one.\n",
    "\n",
    "Sample Dictionary : dic1={1:10, 2:20}, dic2={3:30, 4:40}, dic3={5:50,6:60},\n",
    "\n",
    "Expected Result : {1: 10, 2: 20, 3: 30, 4: 40, 5: 50, 6: 60}\n"
   ]
  },
  {
   "cell_type": "code",
   "execution_count": 14,
   "metadata": {
    "id": "_z4aLqAbEET1"
   },
   "outputs": [
    {
     "ename": "ImportError",
     "evalue": "cannot import name 'merge' from 'collections' (/Users/Shared/anaconda3/lib/python3.11/collections/__init__.py)",
     "output_type": "error",
     "traceback": [
      "\u001b[0;31m---------------------------------------------------------------------------\u001b[0m",
      "\u001b[0;31mImportError\u001b[0m                               Traceback (most recent call last)",
      "Cell \u001b[0;32mIn[14], line 1\u001b[0m\n\u001b[0;32m----> 1\u001b[0m \u001b[38;5;28;01mfrom\u001b[39;00m \u001b[38;5;21;01mcollections\u001b[39;00m \u001b[38;5;28;01mimport\u001b[39;00m merge\n\u001b[1;32m      3\u001b[0m dic1 \u001b[38;5;241m=\u001b[39m {\u001b[38;5;241m1\u001b[39m:\u001b[38;5;241m10\u001b[39m, \u001b[38;5;241m2\u001b[39m:\u001b[38;5;241m20\u001b[39m}\n\u001b[1;32m      4\u001b[0m dic2 \u001b[38;5;241m=\u001b[39m {\u001b[38;5;241m3\u001b[39m:\u001b[38;5;241m30\u001b[39m, \u001b[38;5;241m4\u001b[39m:\u001b[38;5;241m40\u001b[39m}\n",
      "\u001b[0;31mImportError\u001b[0m: cannot import name 'merge' from 'collections' (/Users/Shared/anaconda3/lib/python3.11/collections/__init__.py)"
     ]
    }
   ],
   "source": [
    "from collections import merge\n",
    "\n",
    "dic1 = {1:10, 2:20}\n",
    "dic2 = {3:30, 4:40}\n",
    "dic3 = {5:50,6:60}\n",
    "\n",
    "dic4 = merge(dic1, dic2, dic3)\n",
    "\n",
    "print(dic4)\n"
   ]
  },
  {
   "cell_type": "markdown",
   "metadata": {
    "id": "bkyZ2xSZUOst"
   },
   "source": [
    "(11) Write a Python function that accepts a tuple of integers and returns the largest and smallest elements."
   ]
  },
  {
   "cell_type": "code",
   "execution_count": 15,
   "metadata": {
    "id": "3FdLRBKOUQEd"
   },
   "outputs": [
    {
     "name": "stdout",
     "output_type": "stream",
     "text": [
      "The largest number is 10\n",
      "The smallest number is 2\n"
     ]
    }
   ],
   "source": [
    "def find_largest_smallest(nums):\n",
    "  largest = nums[0]\n",
    "  smallest = nums[0]\n",
    "  for num in nums:\n",
    "    if num > largest:\n",
    "      largest = num\n",
    "    elif num < smallest:\n",
    "      smallest = num\n",
    "  return largest, smallest\n",
    "\n",
    "nums = (10, 4, 2, 9, 7)\n",
    "largest, smallest = find_largest_smallest(nums)\n",
    "print(\"The largest number is\", largest)\n",
    "print(\"The smallest number is\", smallest)\n"
   ]
  },
  {
   "cell_type": "markdown",
   "metadata": {
    "id": "O0TVi3gKUTpp"
   },
   "source": [
    "(12) Write a Python program that counts the frequency of each character in a given string and stores it in a dictionary."
   ]
  },
  {
   "cell_type": "code",
   "execution_count": 16,
   "metadata": {
    "id": "lAtfSfZXUU-h"
   },
   "outputs": [
    {
     "name": "stdout",
     "output_type": "stream",
     "text": [
      "{'h': 1, 'e': 1, 'l': 3, 'o': 2, ' ': 1, 'w': 1, 'r': 1, 'd': 1}\n"
     ]
    }
   ],
   "source": [
    "def count_characters(str1):\n",
    "  char_counts = {}\n",
    "  for char in str1:\n",
    "    if char in char_counts:\n",
    "      char_counts[char] += 1\n",
    "    else:\n",
    "      char_counts[char] = 1\n",
    "  return char_counts\n",
    "\n",
    "str1 = \"hello world\"\n",
    "char_counts = count_characters(str1)\n",
    "print(char_counts)\n"
   ]
  },
  {
   "cell_type": "markdown",
   "metadata": {
    "id": "0v48Vqa7FrQh"
   },
   "source": [
    "(13) Write a Python program to check whether an element exists within a tuple."
   ]
  },
  {
   "cell_type": "code",
   "execution_count": 19,
   "metadata": {
    "id": "7WEmgq-DF2P1"
   },
   "outputs": [
    {
     "name": "stdout",
     "output_type": "stream",
     "text": [
      "True\n"
     ]
    }
   ],
   "source": [
    "def check_element_exists(tuple1, element):\n",
    "  exists = False\n",
    "  for ele in tuple1:\n",
    "    if ele == element:\n",
    "      exists = True\n",
    "      break\n",
    "  return exists\n",
    "\n",
    "tuple1 = (1, 2, 3, 4, 5)\n",
    "element = 5\n",
    "\n",
    "print(check_element_exists(tuple1, element))\n"
   ]
  },
  {
   "cell_type": "markdown",
   "metadata": {
    "id": "vD5PYLMuGga_"
   },
   "source": [
    "(14) Write a Python program to find maximum and the minimum value in a set."
   ]
  },
  {
   "cell_type": "code",
   "execution_count": 20,
   "metadata": {
    "id": "t0D5kdJUGjjw"
   },
   "outputs": [
    {
     "ename": "TypeError",
     "evalue": "'set' object is not subscriptable",
     "output_type": "error",
     "traceback": [
      "\u001b[0;31m---------------------------------------------------------------------------\u001b[0m",
      "\u001b[0;31mTypeError\u001b[0m                                 Traceback (most recent call last)",
      "Cell \u001b[0;32mIn[20], line 12\u001b[0m\n\u001b[1;32m      9\u001b[0m   \u001b[38;5;28;01mreturn\u001b[39;00m max_value, min_value\n\u001b[1;32m     11\u001b[0m set1 \u001b[38;5;241m=\u001b[39m {\u001b[38;5;241m1\u001b[39m, \u001b[38;5;241m2\u001b[39m, \u001b[38;5;241m3\u001b[39m, \u001b[38;5;241m4\u001b[39m, \u001b[38;5;241m5\u001b[39m}\n\u001b[0;32m---> 12\u001b[0m max_value, min_value \u001b[38;5;241m=\u001b[39m find_maximum_minimum(set1)\n\u001b[1;32m     13\u001b[0m \u001b[38;5;28mprint\u001b[39m(\u001b[38;5;124m\"\u001b[39m\u001b[38;5;124mThe maximum value is\u001b[39m\u001b[38;5;124m\"\u001b[39m, max_value)\n\u001b[1;32m     14\u001b[0m \u001b[38;5;28mprint\u001b[39m(\u001b[38;5;124m\"\u001b[39m\u001b[38;5;124mThe minimum value is\u001b[39m\u001b[38;5;124m\"\u001b[39m, min_value)\n",
      "Cell \u001b[0;32mIn[20], line 2\u001b[0m, in \u001b[0;36mfind_maximum_minimum\u001b[0;34m(set1)\u001b[0m\n\u001b[1;32m      1\u001b[0m \u001b[38;5;28;01mdef\u001b[39;00m \u001b[38;5;21mfind_maximum_minimum\u001b[39m(set1):\n\u001b[0;32m----> 2\u001b[0m   max_value \u001b[38;5;241m=\u001b[39m set1[\u001b[38;5;241m0\u001b[39m]\n\u001b[1;32m      3\u001b[0m   min_value \u001b[38;5;241m=\u001b[39m set1[\u001b[38;5;241m0\u001b[39m]\n\u001b[1;32m      4\u001b[0m   \u001b[38;5;28;01mfor\u001b[39;00m ele \u001b[38;5;129;01min\u001b[39;00m set1:\n",
      "\u001b[0;31mTypeError\u001b[0m: 'set' object is not subscriptable"
     ]
    }
   ],
   "source": [
    "def find_maximum_minimum(set1):\n",
    "  max_value = set1[0]\n",
    "  min_value = set1[0]\n",
    "  for ele in set1:\n",
    "    if ele > max_value:\n",
    "      max_value = ele\n",
    "    elif ele < min_value:\n",
    "      min_value = ele\n",
    "  return max_value, min_value\n",
    "\n",
    "set1 = {1, 2, 3, 4, 5}\n",
    "max_value, min_value = find_maximum_minimum(set1)\n",
    "print(\"The maximum value is\", max_value)\n",
    "print(\"The minimum value is\", min_value)\n"
   ]
  },
  {
   "cell_type": "markdown",
   "metadata": {
    "id": "uHkd-y5VhVWC"
   },
   "source": [
    "(15) Write a Python program to randomly divide the students in this class into six groups for term projects, each group should have at least 4 students but no more than 6 students (including 6). Here is the students list:\n",
    "student_list_fall_2023=['sb1826' ,\n",
    " 'lb0582' ,\n",
    " 'ab1820' ,\n",
    " 'sb1883' ,\n",
    " 'mb1296' ,\n",
    " 'sc1622' ,\n",
    " 'tc0469' ,\n",
    " 'ac1770' ,\n",
    " 'mc1453' ,\n",
    " 'ad1187' ,\n",
    " 'sd0926' ,\n",
    " 'sd1268' ,\n",
    " 'ag1609' ,\n",
    " 'sg1638' ,\n",
    " 'mg1299' ,\n",
    " 'vkk0022' ,\n",
    " 'bk0413' ,\n",
    " 'gk0257' ,\n",
    " 'am2807' ,\n",
    " 'gm0558' ,\n",
    " 'pm0658' ,\n",
    " 'am2346' ,\n",
    " 'rm1090' ,\n",
    " 'sm2364' ,\n",
    " 'sm2747' ,\n",
    " 'sm2343' ,\n",
    " 'vm0597' ,\n",
    " 'htn0086' ,\n",
    " 'sp2075' ,\n",
    " 'gp0306' ,\n",
    " 'lp0502' ,\n",
    " 'sr1508' ,\n",
    " 'vr0331' ,\n",
    " 'yr0180' ,\n",
    " 'as2819' ,\n",
    " 'ss2981' ,\n",
    " 'ns0756' ,\n",
    " 'mt0825' ,\n",
    " 'dt0463' ,\n",
    " 'su0137' ,\n",
    " 'dv0310'\n",
    "]"
   ]
  },
  {
   "cell_type": "code",
   "execution_count": 21,
   "metadata": {
    "id": "3iGbmcOBhTwy"
   },
   "outputs": [
    {
     "name": "stdout",
     "output_type": "stream",
     "text": [
      "['sm2747', 'sd1268', 'tc0469']\n",
      "['ss2981', 'vm0597', 'bk0413']\n",
      "['mc1453', 'vr0331', 'sc1622']\n",
      "['am2807', 'sm2343', 'as2819']\n",
      "['ag1609', 'sg1638', 'ac1770']\n",
      "['sb1883', 'mg1299', 'rm1090']\n"
     ]
    }
   ],
   "source": [
    "import random\n",
    "\n",
    "student_list_fall_2023 = [\n",
    "    \"sb1826\",\n",
    "    \"lb0582\",\n",
    "    \"ab1820\",\n",
    "    \"sb1883\",\n",
    "    \"mb1296\",\n",
    "    \"sc1622\",\n",
    "    \"tc0469\",\n",
    "    \"ac1770\",\n",
    "    \"mc1453\",\n",
    "    \"ad1187\",\n",
    "    \"sd0926\",\n",
    "    \"sd1268\",\n",
    "    \"ag1609\",\n",
    "    \"sg1638\",\n",
    "    \"mg1299\",\n",
    "    \"vkk0022\",\n",
    "    \"bk0413\",\n",
    "    \"gk0257\",\n",
    "    \"am2807\",\n",
    "    \"gm0558\",\n",
    "    \"pm0658\",\n",
    "    \"am2346\",\n",
    "    \"rm1090\",\n",
    "    \"sm2364\",\n",
    "    \"sm2747\",\n",
    "    \"sm2343\",\n",
    "    \"vm0597\",\n",
    "    \"htn0086\",\n",
    "    \"sp2075\",\n",
    "    \"gp0306\",\n",
    "    \"lp0502\",\n",
    "    \"sr1508\",\n",
    "    \"vr0331\",\n",
    "    \"yr0180\",\n",
    "    \"as2819\",\n",
    "    \"ss2981\",\n",
    "    \"ns0756\",\n",
    "    \"mt0825\",\n",
    "    \"dt0463\",\n",
    "    \"su0137\",\n",
    "    \"dv0310\",\n",
    "]\n",
    "\n",
    "total_students = len(student_list_fall_2023)\n",
    "number_of_groups = 6\n",
    "min_students_per_group = 4\n",
    "max_students_per_group = 6\n",
    "\n",
    "# Shuffle the student list\n",
    "random.shuffle(student_list_fall_2023)\n",
    "\n",
    "# Create the groups\n",
    "groups = []\n",
    "for i in range(number_of_groups):\n",
    "    group = []\n",
    "    for j in range(min_students_per_group, max_students_per_group + 1):\n",
    "        if i * max_students_per_group + j < total_students:\n",
    "            group.append(student_list_fall_2023[i * max_students_per_group + j])\n",
    "    groups.append(group)\n",
    "\n",
    "# Print the groups\n",
    "for group in groups:\n",
    "    print(group)\n"
   ]
  },
  {
   "cell_type": "markdown",
   "metadata": {
    "id": "fmZ9vX20Qs3d"
   },
   "source": [
    "(16) Write a Python program to find the duplicate elements in a given array of integers. Return -1 If there are no such elements."
   ]
  },
  {
   "cell_type": "code",
   "execution_count": 23,
   "metadata": {
    "id": "W8Jw6sWMQs3d"
   },
   "outputs": [
    {
     "name": "stdout",
     "output_type": "stream",
     "text": [
      "-1\n"
     ]
    }
   ],
   "source": [
    "def find_duplicates(array):\n",
    "  seen = set()\n",
    "  duplicates = []\n",
    "  for num in array:\n",
    "    if num in seen:\n",
    "      duplicates.append(num)\n",
    "    else:\n",
    "      seen.add(num)\n",
    "\n",
    "  if not duplicates:\n",
    "    return -1\n",
    "  else:\n",
    "    return duplicates\n",
    "\n",
    "array = [1, 2, 3, 4, 5]\n",
    "duplicates = find_duplicates(array)\n",
    "print(duplicates)\n"
   ]
  },
  {
   "cell_type": "markdown",
   "metadata": {
    "id": "hvq4APMhQs3d"
   },
   "source": [
    "(17) Write a Python program to select all the Sundays of a specified year."
   ]
  },
  {
   "cell_type": "code",
   "execution_count": 24,
   "metadata": {
    "id": "ZnoxhSglQs3d"
   },
   "outputs": [
    {
     "ename": "NameError",
     "evalue": "name 'date' is not defined",
     "output_type": "error",
     "traceback": [
      "\u001b[0;31m---------------------------------------------------------------------------\u001b[0m",
      "\u001b[0;31mNameError\u001b[0m                                 Traceback (most recent call last)",
      "Cell \u001b[0;32mIn[24], line 11\u001b[0m\n\u001b[1;32m      8\u001b[0m   \u001b[38;5;28;01mreturn\u001b[39;00m sundays\n\u001b[1;32m     10\u001b[0m year \u001b[38;5;241m=\u001b[39m \u001b[38;5;241m2023\u001b[39m\n\u001b[0;32m---> 11\u001b[0m sundays \u001b[38;5;241m=\u001b[39m find_sundays(year)\n\u001b[1;32m     12\u001b[0m \u001b[38;5;28mprint\u001b[39m(sundays)\n",
      "Cell \u001b[0;32mIn[24], line 6\u001b[0m, in \u001b[0;36mfind_sundays\u001b[0;34m(year)\u001b[0m\n\u001b[1;32m      4\u001b[0m   \u001b[38;5;28;01mfor\u001b[39;00m day \u001b[38;5;129;01min\u001b[39;00m \u001b[38;5;28mrange\u001b[39m(\u001b[38;5;241m1\u001b[39m, \u001b[38;5;241m32\u001b[39m):\n\u001b[1;32m      5\u001b[0m     \u001b[38;5;28;01mif\u001b[39;00m (day \u001b[38;5;241m%\u001b[39m \u001b[38;5;241m7\u001b[39m \u001b[38;5;241m==\u001b[39m \u001b[38;5;241m0\u001b[39m) \u001b[38;5;129;01mand\u001b[39;00m (month \u001b[38;5;241m!=\u001b[39m \u001b[38;5;241m2\u001b[39m \u001b[38;5;129;01mor\u001b[39;00m (month \u001b[38;5;241m==\u001b[39m \u001b[38;5;241m2\u001b[39m \u001b[38;5;129;01mand\u001b[39;00m day \u001b[38;5;241m<\u001b[39m\u001b[38;5;241m=\u001b[39m \u001b[38;5;241m28\u001b[39m)):\n\u001b[0;32m----> 6\u001b[0m       sundays\u001b[38;5;241m.\u001b[39mappend(date(year, month, day))\n\u001b[1;32m      8\u001b[0m \u001b[38;5;28;01mreturn\u001b[39;00m sundays\n",
      "\u001b[0;31mNameError\u001b[0m: name 'date' is not defined"
     ]
    }
   ],
   "source": [
    "def find_sundays(year):\n",
    "  sundays = []\n",
    "  for month in range(1, 13):\n",
    "    for day in range(1, 32):\n",
    "      if (day % 7 == 0) and (month != 2 or (month == 2 and day <= 28)):\n",
    "        sundays.append(date(year, month, day))\n",
    "\n",
    "  return sundays\n",
    "\n",
    "year = 2023\n",
    "sundays = find_sundays(year)\n",
    "print(sundays)\n"
   ]
  },
  {
   "cell_type": "markdown",
   "metadata": {
    "id": "55FWoSJPVVM6"
   },
   "source": [
    "(18) Build a program that calculates the factorial of a given positive integer. The factorial of a non-negative integer n is the product of all positive integers less than or equal to n."
   ]
  },
  {
   "cell_type": "code",
   "execution_count": 25,
   "metadata": {
    "id": "hwtr1wZmVX5A"
   },
   "outputs": [
    {
     "name": "stdout",
     "output_type": "stream",
     "text": [
      "Enter a positive integer: 8\n",
      "The factorial of 8 is 40320\n"
     ]
    }
   ],
   "source": [
    "def factorial(n):\n",
    "  if n == 0:\n",
    "    return 1\n",
    "  else:\n",
    "    return n * factorial(n - 1)\n",
    "\n",
    "number = int(input(\"Enter a positive integer: \"))\n",
    "factorial = factorial(number)\n",
    "print(\"The factorial of\", number, \"is\", factorial)"
   ]
  },
  {
   "cell_type": "markdown",
   "metadata": {
    "id": "Q9ecagcaVazW"
   },
   "source": [
    "(19) Write a program that takes a positive integer n as input and prints the count of even numbers from 1 to n. Use a loop to iterate through the numbers and utilize the break statement to optimize the loop."
   ]
  },
  {
   "cell_type": "code",
   "execution_count": 26,
   "metadata": {
    "id": "gycgckoAVZjR"
   },
   "outputs": [
    {
     "name": "stdout",
     "output_type": "stream",
     "text": [
      "Enter a positive integer: 8\n",
      "The number of even numbers from 1 to 8 is 4\n"
     ]
    }
   ],
   "source": [
    "def count_even_numbers(n):\n",
    "  count = 0\n",
    "  i = 1\n",
    "  while i <= n:\n",
    "    if i % 2 == 0:\n",
    "      count += 1\n",
    "    i += 1\n",
    "  return count\n",
    "\n",
    "number = int(input(\"Enter a positive integer: \"))\n",
    "even_count = count_even_numbers(number)\n",
    "print(\"The number of even numbers from 1 to\", number, \"is\", even_count)\n"
   ]
  },
  {
   "cell_type": "markdown",
   "metadata": {
    "id": "cboAr5pEWUf5"
   },
   "source": [
    "(20) Write a Python function called count_vowels that takes a string as input and returns the count of vowels (both lowercase and uppercase) present in the string. Consider the vowels to be 'a', 'e', 'i', 'o', and 'u'. Ignore spaces and other non-alphabetic characters."
   ]
  },
  {
   "cell_type": "code",
   "execution_count": 27,
   "metadata": {
    "id": "phs9gciMWWAW"
   },
   "outputs": [
    {
     "name": "stdout",
     "output_type": "stream",
     "text": [
      "Enter a string: Saketh\n",
      "The number of vowels in the string is 2\n"
     ]
    }
   ],
   "source": [
    "def count_vowels(string):\n",
    "  vowels = \"aeiouAEIOU\"\n",
    "  count = 0\n",
    "  for char in string:\n",
    "    if char in vowels:\n",
    "      count += 1\n",
    "  return count\n",
    "\n",
    "string = input(\"Enter a string: \")\n",
    "vowel_count = count_vowels(string)\n",
    "print(\"The number of vowels in the string is\", vowel_count)\n"
   ]
  },
  {
   "cell_type": "code",
   "execution_count": null,
   "metadata": {},
   "outputs": [],
   "source": []
  }
 ],
 "metadata": {
  "colab": {
   "provenance": []
  },
  "kernelspec": {
   "display_name": "Python 3 (ipykernel)",
   "language": "python",
   "name": "python3"
  },
  "language_info": {
   "codemirror_mode": {
    "name": "ipython",
    "version": 3
   },
   "file_extension": ".py",
   "mimetype": "text/x-python",
   "name": "python",
   "nbconvert_exporter": "python",
   "pygments_lexer": "ipython3",
   "version": "3.11.4"
  }
 },
 "nbformat": 4,
 "nbformat_minor": 1
}
